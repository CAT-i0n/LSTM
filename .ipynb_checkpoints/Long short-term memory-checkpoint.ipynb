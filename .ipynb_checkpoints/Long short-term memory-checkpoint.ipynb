{
 "cells": [
  {
   "cell_type": "markdown",
   "id": "8e22dbfb",
   "metadata": {},
   "source": [
    "Модель рекуррентной сети с цепью нейросетевых моделей долгой кратковременной памяти "
   ]
  },
  {
   "cell_type": "code",
   "execution_count": 142,
   "id": "be9a804e",
   "metadata": {},
   "outputs": [],
   "source": [
    "import os\n",
    "import matplotlib as mpl\n",
    "import matplotlib.pyplot as plt\n",
    "import numpy as np\n",
    "import tensorflow as tf\n",
    "import math"
   ]
  },
  {
   "cell_type": "code",
   "execution_count": 141,
   "id": "0f90444f",
   "metadata": {},
   "outputs": [],
   "source": [
    "seq_len = 10\n",
    "batch_size = 10 \n",
    "data = [[float(i)] for i in range(10**4)]\n",
    "target = data[seq_len:]\n",
    "train = tf.keras.utils.timeseries_dataset_from_array(\n",
    "      data=data,\n",
    "      targets=target,\n",
    "      sequence_length=seq_len,\n",
    "      batch_size=batch_size,)\n",
    "test = tf.keras.utils.timeseries_dataset_from_array(\n",
    "      data=data,\n",
    "      targets=None,\n",
    "      sequence_length=seq_len,\n",
    "      batch_size=1,)"
   ]
  },
  {
   "cell_type": "code",
   "execution_count": 138,
   "id": "bf4f8512",
   "metadata": {},
   "outputs": [],
   "source": [
    "class LSTM:\n",
    "    def __init__(self):\n",
    "        self.model = tf.keras.models.Sequential([\n",
    "                    tf.keras.layers.InputLayer(input_shape=(seq_len,1)),\n",
    "                    tf.keras.layers.LSTM(10, return_sequences = False),\n",
    "                    tf.keras.layers.Dense(units=1)\n",
    "                    ])\n",
    "        \n",
    "    def compile(self):\n",
    "        self.model.compile(loss=tf.losses.Huber(),\n",
    "            optimizer=tf.optimizers.Adam(learning_rate=0.01),\n",
    "            metrics=[tf.metrics.MeanAbsoluteError()])\n",
    "\n",
    "        self.model.build()\n",
    "        self.model.summary()\n",
    "        \n",
    "    def train(self, data, epochs = 10)\n",
    "        for _ in range(10):\n",
    "            self.model.fit(train,\n",
    "                          validation_data=None,\n",
    "                          )"
   ]
  },
  {
   "cell_type": "code",
   "execution_count": 137,
   "id": "474fe489",
   "metadata": {},
   "outputs": [
    {
     "name": "stdout",
     "output_type": "stream",
     "text": [
      "[[[0.0], [1.0], [2.0], [3.0], [4.0], [5.0], [6.0], [7.0], [8.0], [9.0]]]\n",
      "1/1 [==============================] - 0s 394ms/step\n",
      "[[3967.5784]]\n",
      "[[[1.0], [2.0], [3.0], [4.0], [5.0], [6.0], [7.0], [8.0], [9.0], [10.0]]]\n",
      "1/1 [==============================] - 0s 43ms/step\n",
      "[[3967.5784]]\n",
      "[[[2.0], [3.0], [4.0], [5.0], [6.0], [7.0], [8.0], [9.0], [10.0], [11.0]]]\n",
      "1/1 [==============================] - 0s 41ms/step\n",
      "[[3967.5784]]\n",
      "[[[3.0], [4.0], [5.0], [6.0], [7.0], [8.0], [9.0], [10.0], [11.0], [12.0]]]\n",
      "1/1 [==============================] - 0s 42ms/step\n",
      "[[3967.5784]]\n",
      "[[[4.0], [5.0], [6.0], [7.0], [8.0], [9.0], [10.0], [11.0], [12.0], [13.0]]]\n",
      "1/1 [==============================] - 0s 42ms/step\n",
      "[[3967.5784]]\n",
      "[[[5.0], [6.0], [7.0], [8.0], [9.0], [10.0], [11.0], [12.0], [13.0], [14.0]]]\n",
      "1/1 [==============================] - 0s 41ms/step\n",
      "[[3967.5784]]\n",
      "[[[6.0], [7.0], [8.0], [9.0], [10.0], [11.0], [12.0], [13.0], [14.0], [15.0]]]\n",
      "1/1 [==============================] - 0s 40ms/step\n",
      "[[3967.5784]]\n",
      "[[[7.0], [8.0], [9.0], [10.0], [11.0], [12.0], [13.0], [14.0], [15.0], [16.0]]]\n",
      "1/1 [==============================] - 0s 39ms/step\n",
      "[[3967.5784]]\n",
      "[[[8.0], [9.0], [10.0], [11.0], [12.0], [13.0], [14.0], [15.0], [16.0], [17.0]]]\n",
      "1/1 [==============================] - 0s 46ms/step\n",
      "[[3967.5784]]\n",
      "[[[9.0], [10.0], [11.0], [12.0], [13.0], [14.0], [15.0], [16.0], [17.0], [18.0]]]\n",
      "1/1 [==============================] - 0s 41ms/step\n",
      "[[3967.5784]]\n"
     ]
    }
   ],
   "source": [
    "for p in range(10):\n",
    "    ex = [data[p:p+seq_len]]\n",
    "    print(ex)\n",
    "    print(lstm_model.predict(ex))"
   ]
  },
  {
   "cell_type": "code",
   "execution_count": null,
   "id": "d93b33eb",
   "metadata": {},
   "outputs": [],
   "source": []
  }
 ],
 "metadata": {
  "kernelspec": {
   "display_name": "Python 3 (ipykernel)",
   "language": "python",
   "name": "python3"
  },
  "language_info": {
   "codemirror_mode": {
    "name": "ipython",
    "version": 3
   },
   "file_extension": ".py",
   "mimetype": "text/x-python",
   "name": "python",
   "nbconvert_exporter": "python",
   "pygments_lexer": "ipython3",
   "version": "3.9.13"
  }
 },
 "nbformat": 4,
 "nbformat_minor": 5
}
