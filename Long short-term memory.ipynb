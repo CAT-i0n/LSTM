{
 "cells": [
  {
   "cell_type": "markdown",
   "id": "8e22dbfb",
   "metadata": {},
   "source": [
    "Модель рекуррентной сети с цепью нейросетевых моделей долгой кратковременной памяти "
   ]
  },
  {
   "cell_type": "code",
   "execution_count": 62,
   "id": "be9a804e",
   "metadata": {},
   "outputs": [],
   "source": [
    "import os\n",
    "import matplotlib as mpl\n",
    "import matplotlib.pyplot as plt\n",
    "import numpy as np\n",
    "import tensorflow as tf\n"
   ]
  },
  {
   "cell_type": "code",
   "execution_count": 63,
   "id": "35ea8e00",
   "metadata": {},
   "outputs": [],
   "source": [
    "seq_len = 10"
   ]
  },
  {
   "cell_type": "code",
   "execution_count": 64,
   "id": "84789233",
   "metadata": {},
   "outputs": [],
   "source": [
    "data = [[float(i)] for i in range(10**3)]\n",
    "#data = [data[i:i+seq_len] for i in range(len(data)-32)]\n",
    "target = [float(i) for i in range(seq_len,10**3)]"
   ]
  },
  {
   "cell_type": "code",
   "execution_count": 65,
   "id": "3917b5d1",
   "metadata": {},
   "outputs": [],
   "source": [
    "data = [[float((-1)**i)+1] for i in range(10**3)]\n",
    "#data = [data[i:i+seq_len] for i in range(len(data)-32)]\n",
    "target = [float((-1)**i+1) for i in range(seq_len,10**3)]"
   ]
  },
  {
   "cell_type": "code",
   "execution_count": 66,
   "id": "0f90444f",
   "metadata": {},
   "outputs": [],
   "source": [
    "train = tf.keras.utils.timeseries_dataset_from_array(\n",
    "      data=data,\n",
    "      targets=target,\n",
    "      sequence_length=seq_len,\n",
    "      batch_size=1,)"
   ]
  },
  {
   "cell_type": "code",
   "execution_count": 67,
   "id": "be5197fe",
   "metadata": {},
   "outputs": [
    {
     "name": "stdout",
     "output_type": "stream",
     "text": [
      "(<tf.Tensor: shape=(1, 10, 1), dtype=float32, numpy=\n",
      "array([[[2.],\n",
      "        [0.],\n",
      "        [2.],\n",
      "        [0.],\n",
      "        [2.],\n",
      "        [0.],\n",
      "        [2.],\n",
      "        [0.],\n",
      "        [2.],\n",
      "        [0.]]], dtype=float32)>, <tf.Tensor: shape=(1,), dtype=float32, numpy=array([2.], dtype=float32)>)\n"
     ]
    }
   ],
   "source": [
    "for j,i in enumerate(train):\n",
    "    print(i)\n",
    "    break\n",
    "    "
   ]
  },
  {
   "cell_type": "code",
   "execution_count": 68,
   "id": "bf4f8512",
   "metadata": {},
   "outputs": [],
   "source": [
    "lstm_model = tf.keras.models.Sequential([\n",
    "    tf.keras.layers.LSTM(10, return_sequences=False),\n",
    "    \n",
    "    tf.keras.layers.Dense(units=1)\n",
    "])"
   ]
  },
  {
   "cell_type": "code",
   "execution_count": 69,
   "id": "c5a62f51",
   "metadata": {},
   "outputs": [],
   "source": [
    "def compile_and_fit(model, train, val = None):\n",
    "    '''early_stopping = tf.keras.callbacks.EarlyStopping(monitor='val_loss',\n",
    "                                                    patience=patience,\n",
    "                                                    mode='min')'''\n",
    "\n",
    "    model.compile(loss=tf.losses.MeanSquaredError(),\n",
    "                optimizer=tf.optimizers.SGD(learning_rate=0.01),\n",
    "                metrics=[tf.metrics.MeanAbsoluteError()])\n",
    "\n",
    "    history = model.fit(train,\n",
    "                      validation_data=val,\n",
    "                      )\n",
    "    return history"
   ]
  },
  {
   "cell_type": "code",
   "execution_count": 70,
   "id": "f779bab7",
   "metadata": {},
   "outputs": [
    {
     "name": "stdout",
     "output_type": "stream",
     "text": [
      "990/990 [==============================] - 6s 4ms/step - loss: 0.2659 - mean_absolute_error: 0.3562\n"
     ]
    }
   ],
   "source": [
    "hist = compile_and_fit(lstm_model, train)"
   ]
  },
  {
   "cell_type": "code",
   "execution_count": 72,
   "id": "0c82b57e",
   "metadata": {},
   "outputs": [
    {
     "name": "stdout",
     "output_type": "stream",
     "text": [
      "(<tf.Tensor: shape=(1, 10, 1), dtype=float32, numpy=\n",
      "array([[[2.],\n",
      "        [0.],\n",
      "        [2.],\n",
      "        [0.],\n",
      "        [2.],\n",
      "        [0.],\n",
      "        [2.],\n",
      "        [0.],\n",
      "        [2.],\n",
      "        [0.]]], dtype=float32)>, <tf.Tensor: shape=(1,), dtype=float32, numpy=array([2.], dtype=float32)>)\n",
      "1/1 [==============================] - 0s 16ms/step\n",
      "[[1.9951148]]\n",
      "(<tf.Tensor: shape=(1, 10, 1), dtype=float32, numpy=\n",
      "array([[[0.],\n",
      "        [2.],\n",
      "        [0.],\n",
      "        [2.],\n",
      "        [0.],\n",
      "        [2.],\n",
      "        [0.],\n",
      "        [2.],\n",
      "        [0.],\n",
      "        [2.]]], dtype=float32)>, <tf.Tensor: shape=(1,), dtype=float32, numpy=array([0.], dtype=float32)>)\n",
      "1/1 [==============================] - 0s 22ms/step\n",
      "[[0.00439066]]\n"
     ]
    }
   ],
   "source": [
    "for j,i in enumerate(train):\n",
    "    print(i)\n",
    "    print(lstm_model.predict(i))\n",
    "    if j==1:\n",
    "        break"
   ]
  },
  {
   "cell_type": "code",
   "execution_count": null,
   "id": "474fe489",
   "metadata": {},
   "outputs": [],
   "source": []
  },
  {
   "cell_type": "code",
   "execution_count": null,
   "id": "d93b33eb",
   "metadata": {},
   "outputs": [],
   "source": []
  }
 ],
 "metadata": {
  "kernelspec": {
   "display_name": "Python 3 (ipykernel)",
   "language": "python",
   "name": "python3"
  },
  "language_info": {
   "codemirror_mode": {
    "name": "ipython",
    "version": 3
   },
   "file_extension": ".py",
   "mimetype": "text/x-python",
   "name": "python",
   "nbconvert_exporter": "python",
   "pygments_lexer": "ipython3",
   "version": "3.9.13"
  }
 },
 "nbformat": 4,
 "nbformat_minor": 5
}
